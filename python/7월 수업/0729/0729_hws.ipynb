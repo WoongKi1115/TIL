{
 "cells": [
  {
   "cell_type": "code",
   "execution_count": null,
   "metadata": {},
   "outputs": [],
   "source": [
    "## Point class 만들기\n",
    "\n",
    "point라는 클래스를 만들고 x, y위치를 뜻하는 정수 두개를 입력받아서 초기화하는 생성자를 작성\n"
   ]
  },
  {
   "cell_type": "code",
   "execution_count": 4,
   "metadata": {},
   "outputs": [
    {
     "data": {
      "text/plain": [
       "8"
      ]
     },
     "execution_count": 4,
     "metadata": {},
     "output_type": "execute_result"
    }
   ],
   "source": [
    "class Point:\n",
    "    def __init__(self, x, y):\n",
    "        self.x = x\n",
    "        self.y = y\n",
    "\n",
    "\n",
    "class Rectangle:\n",
    "    def __init__(self, p1, p2):\n",
    "        self.p1 = p1\n",
    "        self.p2 = p2\n",
    "\n",
    "    def get_area(self):\n",
    "        width =abs(self.p2.x - self.p1.x)\n",
    "        height = abs(self.p1.y - self.p2.y)\n",
    "        return width * height\n",
    "\n",
    "    def get_perimeter(self):\n",
    "        width =abs(self.p2.x - self.p1.x)\n",
    "        height = abs(self.p1.y - self.p2.y)\n",
    "        return (width + height) * 2\n",
    "\n",
    "    def is_square(self):\n",
    "        width =abs(self.p2.x - self.p1.x)\n",
    "        height = abs(self.p1.y - self.p2.y)\n",
    "        return width == height\n",
    "p1 = Point(1,3)\n",
    "p2 = Point(3,1)\n",
    "a1 = Rectangle(p1,p2)\n",
    "\n",
    "a1.get_perimeter()\n",
    "\n"
   ]
  }
 ],
 "metadata": {
  "kernelspec": {
   "display_name": "Python 3.9.13 64-bit",
   "language": "python",
   "name": "python3"
  },
  "language_info": {
   "codemirror_mode": {
    "name": "ipython",
    "version": 3
   },
   "file_extension": ".py",
   "mimetype": "text/x-python",
   "name": "python",
   "nbconvert_exporter": "python",
   "pygments_lexer": "ipython3",
   "version": "3.9.13"
  },
  "orig_nbformat": 4,
  "vscode": {
   "interpreter": {
    "hash": "3d3579b64ed644892bc49d0da2d1890659408e00eebf25200bc250e1696a02dd"
   }
  }
 },
 "nbformat": 4,
 "nbformat_minor": 2
}

{
 "cells": [
  {
   "cell_type": "markdown",
   "metadata": {},
   "source": [
    "# WS"
   ]
  },
  {
   "cell_type": "markdown",
   "metadata": {},
   "source": [
    "### 1. pip install faker\n",
    "\n",
    "무엇을 하는 명령어인가???\n",
    "  faker 패키지를 설치하기 위해 실행하는 명령어\n",
    "\n",
    "실행은 어디서 하는가??\n",
    "git bash\n",
    "(Cmd, 파워쉘에서도 가능)\n"
   ]
  },
  {
   "cell_type": "code",
   "execution_count": 84,
   "metadata": {},
   "outputs": [
    {
     "data": {
      "text/plain": [
       "'Phillip Miller'"
      ]
     },
     "execution_count": 84,
     "metadata": {},
     "output_type": "execute_result"
    }
   ],
   "source": [
    "from faker import Faker   # Faker 클래스를 faker 패키지에서 불러오기 위한 코드\n",
    "fake = Faker()   # Faker 클래스의 인스턴스를 생성 : fake는 Faker 클래스의 인스턴스이다.\n",
    "fake.name()  # fake의 메서드 사용 : name()은 fake의 메서드이다."
   ]
  },
  {
   "cell_type": "code",
   "execution_count": 82,
   "metadata": {},
   "outputs": [],
   "source": [
    "class Faker():\n",
    "    \n",
    "    def __init__(self, locale='en_US'):\n",
    "        pass\n",
    "\n",
    "# (a) = init\n",
    "# (b) = self\n",
    "# (c) = locale='en_US\n",
    "\n",
    "fake = Faker(\"Fr-FR\")"
   ]
  },
  {
   "cell_type": "markdown",
   "metadata": {},
   "source": [
    "# Seeding the Generator\n"
   ]
  },
  {
   "cell_type": "code",
   "execution_count": 87,
   "metadata": {},
   "outputs": [
    {
     "name": "stdout",
     "output_type": "stream",
     "text": [
      "이진호\n",
      "강은주\n",
      "김은정\n"
     ]
    }
   ],
   "source": [
    "fake1 = Faker(\"ko_KR\")\n",
    "Faker.seed(87654321)    # 클래스 메서드\n",
    "# Faker 클래스 내부의 난수 생성 값을 클래스 변수로 절정\n",
    "# 설정한 후 생성된 모든 인스턴스가 해당 클래스 변수를 공유\n",
    "\n",
    "print(fake1.name())\n",
    "\n",
    "fake2 = Faker(\"ko_KR\")\n",
    "fake3 = Faker(\"ko_KR\")\n",
    "\n",
    "print(fake2.name())\n",
    "print(fake3.name())"
   ]
  },
  {
   "cell_type": "code",
   "execution_count": 96,
   "metadata": {},
   "outputs": [
    {
     "name": "stdout",
     "output_type": "stream",
     "text": [
      "이진호\n",
      "박주원\n"
     ]
    }
   ],
   "source": [
    "fake1 = Faker('ko_KR')\n",
    "fake1.seed_instance(87654321)\n",
    "\n",
    "print(fake1.name())\n",
    "\n",
    "fake2 = Faker('ko_KR')\n",
    "\n",
    "print(fake2.name())"
   ]
  }
 ],
 "metadata": {
  "kernelspec": {
   "display_name": "Python 3.9.13 64-bit",
   "language": "python",
   "name": "python3"
  },
  "language_info": {
   "codemirror_mode": {
    "name": "ipython",
    "version": 3
   },
   "file_extension": ".py",
   "mimetype": "text/x-python",
   "name": "python",
   "nbconvert_exporter": "python",
   "pygments_lexer": "ipython3",
   "version": "3.9.13"
  },
  "orig_nbformat": 4,
  "vscode": {
   "interpreter": {
    "hash": "3d3579b64ed644892bc49d0da2d1890659408e00eebf25200bc250e1696a02dd"
   }
  }
 },
 "nbformat": 4,
 "nbformat_minor": 2
}

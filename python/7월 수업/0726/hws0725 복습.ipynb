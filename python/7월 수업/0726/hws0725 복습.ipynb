{
 "cells": [
  {
   "cell_type": "markdown",
   "metadata": {},
   "source": [
    "# WS"
   ]
  },
  {
   "cell_type": "markdown",
   "metadata": {},
   "source": [
    "## 평균점수 구하기\n",
    "\n",
    "key 값으로 과목명, value 값으로 점수를 가지는 딕셔너리 전달받아서, 전체 과목의 평균 점수 반환하는 함수."
   ]
  },
  {
   "cell_type": "code",
   "execution_count": 4,
   "metadata": {},
   "outputs": [
    {
     "name": "stdout",
     "output_type": "stream",
     "text": [
      "85.5\n"
     ]
    }
   ],
   "source": [
    "\n",
    "def get_dict_avg(student): #student는 딕셔너리고, 과목의 점수 저보가 키-값 쌍으로 주어짐\n",
    "    scores = []\n",
    "\n",
    "    for score in student.values():\n",
    "        # 딕셔너리 안의 값만 가져와서 리스트에 추가\n",
    "        scores.append(score)\n",
    "\n",
    "        #평균을 계산해서 return\n",
    "    result = sum(scores)/len(student)\n",
    "    return result\n",
    "\n",
    "student = {'python' : 80, 'web' : 83, 'algorithm' : 90, 'dgango' : 89}\n",
    "print(get_dict_avg(student))"
   ]
  },
  {
   "cell_type": "markdown",
   "metadata": {},
   "source": [
    "## 혈액형 분류하기\n",
    "여러사람의 혈액형에 대한 정보가 담긴 list를 전달 받아서, key는 혈액형 종류, value는 사람 수인 딕셔너리 반환하는 count_blood 함수 작성"
   ]
  },
  {
   "cell_type": "code",
   "execution_count": 3,
   "metadata": {},
   "outputs": [
    {
     "name": "stdout",
     "output_type": "stream",
     "text": [
      "{'A': 3, 'B': 3, 'O': 3, 'AB': 3}\n"
     ]
    }
   ],
   "source": [
    "blood_type = [\n",
    "'A', 'B', 'A', 'O', 'AB', 'AB',\n",
    "'O', 'A', 'B', 'O', 'B', 'AB',\n",
    "]\n",
    "\n",
    "def count_blood(blood_types):\n",
    "    blood_dict = {}\n",
    "    \n",
    "    for blood in blood_types:\n",
    "        #만약 딕셔너리 안에 혈액형이 있다면(혈액형 키가 있다면)\n",
    "            if blood_dict.get(blood):\n",
    "                blood_dict[blood] += 1\n",
    "            else:\n",
    "                blood_dict[blood] = 1\n",
    "    return blood_dict\n",
    "#get() 함수의 두 번째 인자를 사용해서 더 짧은 코드 구현하기.\n",
    "\n",
    "def count_blood2(blood_types):\n",
    "    blood_dict = {}\n",
    "    for blood in blood_types:\n",
    "        #get() 함수의 두 번째 인자를 사용\n",
    "        #get() 함수의 두 번째 인자의 역할 : 첫 번째 인자로 key를 제공하는데 그 key의 value값이 없을 때 \n",
    "        #기본값을 사용하도록 해줄 수 있다.\n",
    "        blood_dict[blood] = blood_dict.get(blood,0) + 1\n",
    "    \n",
    "    return blood_dict\n",
    "print(count_blood(blood_type))"
   ]
  },
  {
   "cell_type": "markdown",
   "metadata": {},
   "source": [
    "# HS"
   ]
  },
  {
   "cell_type": "markdown",
   "metadata": {},
   "source": [
    "## 1. 모음은 몇 개나 있을까"
   ]
  },
  {
   "cell_type": "code",
   "execution_count": 7,
   "metadata": {},
   "outputs": [
    {
     "name": "stdout",
     "output_type": "stream",
     "text": [
      "3\n"
     ]
    }
   ],
   "source": [
    "def count_vowels(word):\n",
    "    vowels = 'aeiou'\n",
    "\n",
    "    result = 0\n",
    "    for vowel in vowels:\n",
    "        result += word.count(vowel) #word 안에 모음이 몇 개 있는지 센 다음 더해서 저장\n",
    "    \n",
    "    return result\n",
    "\n",
    "print(count_vowels('banana'))"
   ]
  },
  {
   "cell_type": "code",
   "execution_count": 8,
   "metadata": {},
   "outputs": [
    {
     "name": "stdout",
     "output_type": "stream",
     "text": [
      "['a', 'b', 'c']\n"
     ]
    }
   ],
   "source": [
    "a = 'abc'\n",
    "b = list(a)\n",
    "print(b)"
   ]
  },
  {
   "cell_type": "markdown",
   "metadata": {},
   "source": [
    "## 3. 정사각형 만들기"
   ]
  },
  {
   "cell_type": "code",
   "execution_count": 9,
   "metadata": {},
   "outputs": [],
   "source": [
    "def only_square_area(widths,heights):\n",
    "    #widths : 넓이\n",
    "    #height : 높이\n",
    "\n",
    "    square_list = []\n",
    "\n",
    "    for width in widths:\n",
    "        for height in heights:\n",
    "            if width == height:\n",
    "                square_list.append(width*height)\n",
    "    return square_list\n",
    "\n",
    "set(a), set(b)\n",
    "set(a)|set(b)"
   ]
  }
 ],
 "metadata": {
  "kernelspec": {
   "display_name": "Python 3.9.13 64-bit",
   "language": "python",
   "name": "python3"
  },
  "language_info": {
   "codemirror_mode": {
    "name": "ipython",
    "version": 3
   },
   "file_extension": ".py",
   "mimetype": "text/x-python",
   "name": "python",
   "nbconvert_exporter": "python",
   "pygments_lexer": "ipython3",
   "version": "3.9.13"
  },
  "orig_nbformat": 4,
  "vscode": {
   "interpreter": {
    "hash": "3d3579b64ed644892bc49d0da2d1890659408e00eebf25200bc250e1696a02dd"
   }
  }
 },
 "nbformat": 4,
 "nbformat_minor": 2
}

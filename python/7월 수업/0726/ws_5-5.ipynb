{
 "cells": [
  {
   "cell_type": "code",
   "execution_count": 6,
   "metadata": {},
   "outputs": [
    {
     "name": "stdout",
     "output_type": "stream",
     "text": [
      "{'proper': 'improper', 'possible': 'impossible', 'moral': 'immoral', 'patient': 'impatient', 'balance': 'imbalance', 'perfect': 'imperfect', 'logical': 'irlogical', 'legal': 'irlegal', 'relevant': 'irrelevant', 'responsible': 'irresponsible', 'regular': 'irregular'}\n"
     ]
    }
   ],
   "source": [
    "# 아래의 경우에는 in 이 아니라 변화형이 앞에 붙게 된다.\n",
    "# 1. 단어가 b 또는 m 또는 p로 시작하는 경우 => im\n",
    "# 2. 단어가 l 로 시작하는 경우 => il\n",
    "# 3. 단어가 r 로 시작하는 경우 => ir\n",
    "\n",
    "words_dict = {'proper' : '적절한',\n",
    "'possible' : '가능한',\n",
    "'moral' : '도덕적인',\n",
    "'patient' : '참을성 있는',\n",
    "'balance' : '균형',\n",
    "'perfect' : '완벽한',\n",
    "'logical' : '논리적인',\n",
    "'legal' : '합법적인',\n",
    "'relevant' : '관련 있는',\n",
    "'responsible' : '책임감 있는',\n",
    "'regular' : '규칙적인'}\n",
    "def get_opposite(words_dict):\n",
    "    #반댓말로 만들고 나서 dictionary 형식으로 리턴할 것이기 때문에\n",
    "    opposite_dict = {}\n",
    "    # key : 원래 단어 / value : 반대 단어\n",
    "    # {'correct' : 'incorrect'}\n",
    "\n",
    "    for word in words_dict.keys():\n",
    "        #반댓말로 만들 때 원래 단어가 어떤 철자로 시작하는지를 알아야 규칙을 적용할 수 있다.\n",
    "        start = word[0]\n",
    "        #리턴할 반대 의미를 가진 단어\n",
    "        opposite = ''\n",
    "        # 조건문을 통해서 start가 어떤 철자인지 알아본 후 규칙을 적용\n",
    "        if start == 'b' or start == 'm' or start == 'p':\n",
    "            opposite = 'im' + word\n",
    "        elif start == 'l':\n",
    "            opposite = 'ir' + word\n",
    "        elif start == 'r':\n",
    "            opposite = 'ir' + word\n",
    "        else:\n",
    "            opposite = 'in' + word\n",
    "        \n",
    "        opposite_dict[word] = opposite\n",
    "\n",
    "    return opposite_dict\n",
    "\n",
    "print(get_opposite(words_dict))\n",
    "    # 반댓말을 만들고 나서 딕셔너리에 추가 해준다."
   ]
  },
  {
   "cell_type": "markdown",
   "metadata": {},
   "source": [
    "# 5-4"
   ]
  },
  {
   "cell_type": "code",
   "execution_count": 16,
   "metadata": {},
   "outputs": [
    {
     "name": "stdout",
     "output_type": "stream",
     "text": [
      "True\n"
     ]
    }
   ],
   "source": [
    "def fn_d(n):\n",
    "    # 91 = 9 + 1 + 91 = 101\n",
    "    # n을 문자열로 바꿔서 씀.\n",
    "    number = str(n)\n",
    "    # 문자열로 바꾸면 각 인덱스 위치에 있는 철자가 바로 자리수가 됨.\n",
    "    # 앞에서부터 하나씩 떼와서 숫자로 다시 바꾼 다음 다시 더해줌\n",
    "    for i in number:\n",
    "        n += int(i)\n",
    "    return n\n",
    "\n",
    "def is_selfnum(n):\n",
    "    for i in range(1,n+1):\n",
    "        if fn_d(i) == n:\n",
    "            return False\n",
    "    return True  \n",
    "        \n",
    "print(is_selfnum(3))"
   ]
  },
  {
   "cell_type": "code",
   "execution_count": null,
   "metadata": {},
   "outputs": [],
   "source": [
    "for i in n:\n",
    "    if fn_d(i) == n:\n",
    "        return i"
   ]
  }
 ],
 "metadata": {
  "kernelspec": {
   "display_name": "Python 3.9.13 64-bit",
   "language": "python",
   "name": "python3"
  },
  "language_info": {
   "codemirror_mode": {
    "name": "ipython",
    "version": 3
   },
   "file_extension": ".py",
   "mimetype": "text/x-python",
   "name": "python",
   "nbconvert_exporter": "python",
   "pygments_lexer": "ipython3",
   "version": "3.9.13"
  },
  "orig_nbformat": 4,
  "vscode": {
   "interpreter": {
    "hash": "3d3579b64ed644892bc49d0da2d1890659408e00eebf25200bc250e1696a02dd"
   }
  }
 },
 "nbformat": 4,
 "nbformat_minor": 2
}

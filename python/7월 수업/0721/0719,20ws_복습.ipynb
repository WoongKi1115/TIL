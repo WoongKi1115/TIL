{
 "cells": [
  {
   "cell_type": "markdown",
   "metadata": {},
   "source": [
    "## 1. 숫자의 입력과 출력\n",
    "입력받은 데이터를 숫자로 변환하고, 덧셈해서 출력하는 프로그램을 작성.\n",
    "(힌트 : input()함수를 활용해서 데이터를 입력받을 수 있다.)\n",
    "\n",
    "입력으로 숫자를 2번\n",
    "출력으로 숫자를 계산하여 그 결과\n",
    "\n",
    "입력예시\n",
    "6374\n",
    "8729\n",
    "\n",
    "출력예시\n",
    "15103"
   ]
  },
  {
   "cell_type": "code",
   "execution_count": 1,
   "metadata": {},
   "outputs": [
    {
     "name": "stdout",
     "output_type": "stream",
     "text": [
      "6\n"
     ]
    }
   ],
   "source": [
    "a, b = map(int, input().split()) # input()은 문자열로 처리. 때문에 int로 바꿔줘야 덧셈이 가능.\n",
    "print(a + b)\n"
   ]
  },
  {
   "cell_type": "markdown",
   "metadata": {},
   "source": [
    "## 2. Dictionary를 활용해서 평균 구하기\n",
    "좋아하는 점심메뉴를 이용해서 key는 메뉴, value는 가격인 dictionary 만들고, 점심메뉴의 평균 값을 출력하시오."
   ]
  },
  {
   "cell_type": "code",
   "execution_count": 11,
   "metadata": {},
   "outputs": [
    {
     "ename": "SyntaxError",
     "evalue": "invalid syntax (1124063135.py, line 1)",
     "output_type": "error",
     "traceback": [
      "\u001b[1;36m  Input \u001b[1;32mIn [11]\u001b[1;36m\u001b[0m\n\u001b[1;33m    lunch = {\"김밥\" : 3000, \"햄버거\" : 5000, \"떡볶이\" : 4000, [1,2,3]}\u001b[0m\n\u001b[1;37m                                                             ^\u001b[0m\n\u001b[1;31mSyntaxError\u001b[0m\u001b[1;31m:\u001b[0m invalid syntax\n"
     ]
    }
   ],
   "source": [
    "lunch = {\"김밥\" : 3000, \"햄버거\" : 5000, \"떡볶이\" : 4000, }\n"
   ]
  },
  {
   "cell_type": "markdown",
   "metadata": {},
   "source": [
    "## 1. Mutable & Immutable\n",
    "* 제시된 컨테이너들을 각각 변경 가능한 것과 변경 불가능한 것으로 분류\n",
    "\n",
    "string, tuple, range ==> immutable\n",
    "\n",
    "list, set, dictionary ==> mutable"
   ]
  },
  {
   "cell_type": "markdown",
   "metadata": {},
   "source": [
    "## 2. Dictionary 만들기\n",
    "* 반 학생들의 정보를 이용해서 key는 이름, value는 나이인 dictionary 만드시오."
   ]
  },
  {
   "cell_type": "code",
   "execution_count": null,
   "metadata": {},
   "outputs": [],
   "source": [
    "student_dict = {\n",
    "    \"홍길동\" : 30,\n",
    "    \"토르\" : 1500\n",
    "}"
   ]
  },
  {
   "cell_type": "markdown",
   "metadata": {},
   "source": [
    "## 3. 평균 구하기\n",
    "* 제시된 list의 평균 값을 출력하시오.\n"
   ]
  },
  {
   "cell_type": "code",
   "execution_count": 14,
   "metadata": {},
   "outputs": [
    {
     "name": "stdout",
     "output_type": "stream",
     "text": [
      "87.75\n",
      "87.75\n"
     ]
    }
   ],
   "source": [
    "scores = [80, 89, 99, 83]\n",
    "\n",
    "sum_scores = sum(scores)\n",
    "sum_count = len(scores)\n",
    "\n",
    "print(sum_scores/sum_count)\n",
    "\n",
    "result = 0\n",
    "for score in scores:\n",
    "    result += score\n",
    "    result = result + score\n",
    "print(result/sum_count)"
   ]
  }
 ],
 "metadata": {
  "kernelspec": {
   "display_name": "Python 3.9.13 64-bit",
   "language": "python",
   "name": "python3"
  },
  "language_info": {
   "codemirror_mode": {
    "name": "ipython",
    "version": 3
   },
   "file_extension": ".py",
   "mimetype": "text/x-python",
   "name": "python",
   "nbconvert_exporter": "python",
   "pygments_lexer": "ipython3",
   "version": "3.9.13"
  },
  "orig_nbformat": 4,
  "vscode": {
   "interpreter": {
    "hash": "3d3579b64ed644892bc49d0da2d1890659408e00eebf25200bc250e1696a02dd"
   }
  }
 },
 "nbformat": 4,
 "nbformat_minor": 2
}

{
 "cells": [
  {
   "cell_type": "markdown",
   "metadata": {},
   "source": [
    "## 3-1\n"
   ]
  },
  {
   "cell_type": "code",
   "execution_count": 5,
   "metadata": {},
   "outputs": [
    {
     "name": "stdout",
     "output_type": "stream",
     "text": [
      "['apple', ' banana', ' apple', ' orange', 'orange']\n"
     ]
    }
   ],
   "source": [
    "fruits = \"apple, rottenBanana, apple, ROTTenorange,Orange\"\n",
    "a=fruits.split(',')\n",
    "fresh_list = []\n",
    "# 반복문을 사용해서 리스트 안의 썩은 과일을 새걸로 만든 다음 신선한 과일 주머니로 옮긴다.\n",
    "# 썩은 과일이 아닐 경우 신선한 과일 주머니로 그대로 옮겨도 된다.\n",
    "\n",
    "for fruit in a:\n",
    "    if \"rotten\" in fruit.lower():\n",
    "        fresh_list.append(fruit.lower().replace('rotten',''))\n",
    "        #replace('바꿀 문자열','변경 후 문자열')\n",
    "    else:\n",
    "        fresh_list.append(fruit.lower())\n",
    "print(fresh_list)\n"
   ]
  },
  {
   "cell_type": "markdown",
   "metadata": {},
   "source": [
    "## 3-2\n"
   ]
  },
  {
   "cell_type": "code",
   "execution_count": 12,
   "metadata": {},
   "outputs": [
    {
     "name": "stdout",
     "output_type": "stream",
     "text": [
      "v\n"
     ]
    }
   ],
   "source": [
    "a = input()\n",
    "if len(a)%2 == 0:\n",
    "    print(a[(len(a)//2)-1:(len(a)//2)+1])\n",
    "    #a[(len(a)//2)-1]+a[(len(a)]\n",
    "else:\n",
    "    print(a[len(a)//2])"
   ]
  },
  {
   "cell_type": "markdown",
   "metadata": {},
   "source": [
    "## 3-3"
   ]
  },
  {
   "cell_type": "code",
   "execution_count": 1,
   "metadata": {},
   "outputs": [
    {
     "name": "stdout",
     "output_type": "stream",
     "text": [
      "10\n",
      "혼합물의 농도는10.00, 양은 500 입니다.\n",
      "혼합물 농도는 10.00, 양은500.\n"
     ]
    }
   ],
   "source": [
    "salt = 0 \n",
    "water = 0\n",
    "count = 0\n",
    "while count <5:\n",
    "    command = input(\"농도 입력(Done 입력시 종료) : \")\n",
    "    if command == 'Done':\n",
    "        break\n",
    "    density = int(command) #농도\n",
    "    brine = int(input(\"소금물 입력 :\")) #소금물\n",
    "    \n",
    "    #지금까지 입력받은 소금물의 소금양 누적시킴.\n",
    "    salt += density * brine\n",
    "    #지금까지 입력받은 소금물의 총합\n",
    "    water += brine\n",
    "    count += 1\n",
    "\n",
    "print(round((salt//water),2))\n",
    "\n",
    "print(f\"혼합물의 농도는{salt/water:.2f}, 양은 {water} 입니다.\")\n",
    "# :.2f ==> 소수점 2번째 자리까지 출력해주세요\n",
    "density = salt/water\n",
    "print(\"혼합물 농도는 {:.2f}, 양은{}.\".format(salt/water, water))"
   ]
  },
  {
   "cell_type": "markdown",
   "metadata": {},
   "source": [
    "## 3-4 과제"
   ]
  },
  {
   "cell_type": "code",
   "execution_count": 20,
   "metadata": {},
   "outputs": [
    {
     "name": "stdout",
     "output_type": "stream",
     "text": [
      "직각삼각형\n"
     ]
    }
   ],
   "source": [
    "s_triangle = input()   #3, 4 ,5로 들어온다고 가정\n",
    "#리스트로 만들고 언패킹을 사용해서 3개의 변수에 할당.\n",
    "#map(적용할 함수 이름, 함수를 적용하고 싶은 리스트)\n",
    "t_list = s_triangle.split(\",\")\n",
    "a, b, c = map(int, sorted(t_list))\n",
    "if a + b > c:\n",
    "    if a == b == c:\n",
    "        print('정삼각형')\n",
    "    elif a==b or b==c or a==c:\n",
    "        print('이등변삼각형')\n",
    "    elif c**2 == a**2 + b**2:\n",
    "        print('직각삼각형')\n",
    "    else:\n",
    "        print('삼각형')\n",
    "else:\n",
    "    print('삼각형 아님')"
   ]
  },
  {
   "cell_type": "markdown",
   "metadata": {},
   "source": [
    "## 2-4 과제"
   ]
  },
  {
   "cell_type": "code",
   "execution_count": 5,
   "metadata": {},
   "outputs": [
    {
     "name": "stdout",
     "output_type": "stream",
     "text": [
      "5\n",
      "{'아이스아메리카노': 2, '카라멜마키야또': 1, '에스프레소': 1, '아메리카노': 3, '아이스라떼': 2, '핫초코': 1, '아이스카라멜마키야또': 1, '라떼마키야또': 2, '카푸치노': 1}\n",
      "아이스아메리카노는 2잔 대기중입니다\n",
      "카라멜마키야또는 1잔 대기중입니다\n",
      "에스프레소는 1잔 대기중입니다\n",
      "아메리카노는 3잔 대기중입니다\n",
      "아이스라떼는 2잔 대기중입니다\n",
      "핫초코는 1잔 대기중입니다\n",
      "아이스카라멜마키야또는 1잔 대기중입니다\n",
      "라떼마키야또는 2잔 대기중입니다\n",
      "카푸치노는 1잔 대기중입니다\n"
     ]
    }
   ],
   "source": [
    "orders = '아이스아메리카노,카라멜마키야또,에스프레소,아메리카노,아메리카노,아이스라떼,핫초코,아이스아메리카노,아메리카노,아이스카라멜마키야또,아이스라떼,라떼마키야또,카푸치노,라떼마키야또'\n",
    "# 각 메뉴가 , 로 구분되어있으니까 split(\",\") 써서 리스트로 만들자!!\n",
    "\n",
    "order_list = orders.split(\",\")\n",
    "\n",
    "ice_count = 0\n",
    "\n",
    "for drink in order_list:\n",
    "    # in 연산자를 통해 '아이스'라는 문자열이 drink에 포함되어 있는지를 확인해서 있다면 ice_count를 1씩 증가\n",
    "    if '아이스' in drink:\n",
    "        ice_count += 1\n",
    "\n",
    "print(ice_count)\n",
    "#2 각 메뉴당 주문 횟수를 출력\n",
    "orders_dict = {}\n",
    "for drink in order_list:\n",
    "    if drink in orders_dict:\n",
    "        #값을 가져올 수 있다면 조건문이 True\n",
    "        #{drink : 1}\n",
    "        #1의 값을 1증가 시키면 개수를 샐 수 있음.\n",
    "        orders_dict[drink] += 1\n",
    "    else:\n",
    "        orders_dict[drink] = 1\n",
    "        #제공한 키에 대한 값을 가져올 수 없다면 (해당 딕셔너리에 키가 없다면) False\n",
    "print(orders_dict)\n",
    "\n",
    "for key, value in orders_dict.items():\n",
    "    print(f\"{key}는 {value}잔 대기중입니다\")"
   ]
  }
 ],
 "metadata": {
  "kernelspec": {
   "display_name": "Python 3.10.5 64-bit",
   "language": "python",
   "name": "python3"
  },
  "language_info": {
   "codemirror_mode": {
    "name": "ipython",
    "version": 3
   },
   "file_extension": ".py",
   "mimetype": "text/x-python",
   "name": "python",
   "nbconvert_exporter": "python",
   "pygments_lexer": "ipython3",
   "version": "3.10.5"
  },
  "orig_nbformat": 4,
  "vscode": {
   "interpreter": {
    "hash": "da5759098478d2d549048c0d6af4b3dc56bf6a77962e304fe9a3ff6e8ccf3e27"
   }
  }
 },
 "nbformat": 4,
 "nbformat_minor": 2
}

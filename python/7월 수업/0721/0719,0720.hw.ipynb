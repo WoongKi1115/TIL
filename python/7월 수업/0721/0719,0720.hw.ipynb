{
 "cells": [
  {
   "cell_type": "markdown",
   "metadata": {},
   "source": [
    "## 1. 세로로 출력하기\n",
    "자연수 number을 입력받아, 1부터 number까지의 수를 세로로 한줄씩 출력하시오"
   ]
  },
  {
   "cell_type": "code",
   "execution_count": 1,
   "metadata": {},
   "outputs": [
    {
     "name": "stdout",
     "output_type": "stream",
     "text": [
      "1\n",
      "2\n",
      "3\n",
      "4\n",
      "5\n",
      "6\n",
      "7\n",
      "8\n",
      "9\n",
      "10\n"
     ]
    }
   ],
   "source": [
    "for i in range(1,11):\n",
    "    print(i)"
   ]
  },
  {
   "cell_type": "code",
   "execution_count": 2,
   "metadata": {},
   "outputs": [
    {
     "name": "stdout",
     "output_type": "stream",
     "text": [
      "1\n",
      "2\n",
      "3\n",
      "4\n",
      "5\n",
      "6\n",
      "7\n",
      "8\n",
      "9\n",
      "10\n",
      "11\n"
     ]
    }
   ],
   "source": [
    "number = int(input())\n",
    "for i in range(1,number+1):\n",
    "    print(i)"
   ]
  },
  {
   "cell_type": "markdown",
   "metadata": {},
   "source": [
    "## 2. 가로로 출력하기\n",
    "자연수 number을 입력받아서, 1부터 number 까지의 수를 가로로 한칸씩 띄어서 출력하시오.\n",
    "[입력]\n",
    "10\n",
    "[출력]\n",
    "1 2 3 4 5 6 7 8 9 10"
   ]
  },
  {
   "cell_type": "code",
   "execution_count": 4,
   "metadata": {},
   "outputs": [
    {
     "name": "stdout",
     "output_type": "stream",
     "text": [
      "1 2 3 4 5 6 7 8 9 10 11 "
     ]
    }
   ],
   "source": [
    "number = int(input())\n",
    "for i in range(1,number + 1):\n",
    "    print(i, end = ' ')      #end 라는 인수에는 값을 \" \" 으로 지정해서 준다. 키워드 인자"
   ]
  },
  {
   "cell_type": "markdown",
   "metadata": {},
   "source": [
    "## 3. 거꾸로 세로로 출력하기\n",
    "[입력]\n",
    "5\n",
    "[출력]\n",
    "5\n",
    "4\n",
    "3\n",
    "2\n",
    "1\n",
    "0"
   ]
  },
  {
   "cell_type": "code",
   "execution_count": 5,
   "metadata": {},
   "outputs": [
    {
     "name": "stdout",
     "output_type": "stream",
     "text": [
      "5\n",
      "4\n",
      "3\n",
      "2\n",
      "1\n",
      "0\n"
     ]
    }
   ],
   "source": [
    "number = int(input())\n",
    "for i in range(number, -1, -1):\n",
    "    print(i)"
   ]
  },
  {
   "cell_type": "markdown",
   "metadata": {},
   "source": [
    "##4. 거꾸로 출력해 보아요 (SWEA # 1545)\n",
    "자연수 number를 입력받아서, number 부터 0까지 가로로 한칸씩 띄어 출력\n",
    "[입력]\n",
    "5\n",
    "[출력]\n",
    "5 4 3 2 1 0"
   ]
  },
  {
   "cell_type": "code",
   "execution_count": null,
   "metadata": {},
   "outputs": [],
   "source": [
    "number = int(input())\n",
    "\n",
    "for i in range(number, -1. -1):\n",
    "    print(i, end=' ') #end = 출력하고 끝에 붙여주세요 (기본값 : 줄바꿈)"
   ]
  },
  {
   "cell_type": "markdown",
   "metadata": {},
   "source": [
    "##5. N줄 덧셈\n",
    "\n",
    "입력으로 자연수 number가 주어질 때, 1부터 주어진 자연수 numer까지를 모두 더한 값을 출력하시오.\n",
    "단, 주어지는 숫자는 10000을 넘지 않는다. 예를 들어, 주어지는 숫자가 10일 경우에는\n",
    "1+2+3+4+5+6+7+8+9+10=55 이므로, 출력해야하는 값은 55이다."
   ]
  },
  {
   "cell_type": "code",
   "execution_count": 7,
   "metadata": {},
   "outputs": [
    {
     "name": "stdout",
     "output_type": "stream",
     "text": [
      "10011\n"
     ]
    }
   ],
   "source": [
    "number = int(input())\n",
    "total = 0\n",
    "for i in range(1,number+1):\n",
    "    total += i\n",
    "print(total)"
   ]
  },
  {
   "cell_type": "markdown",
   "metadata": {},
   "source": [
    "## 6. 삼각형 출력하기\n",
    "자연수 number을 입력받아서 높이가 number인 삼각형을 출력하세요\n",
    "[입력]\n",
    "7\n",
    "[출력]\n",
    "      '*\n",
    "     '**\n",
    "    '***\n",
    "   '****\n",
    "  '*****\n",
    " '******\n",
    "'*******"
   ]
  },
  {
   "cell_type": "code",
   "execution_count": 15,
   "metadata": {},
   "outputs": [
    {
     "name": "stdout",
     "output_type": "stream",
     "text": [
      "*\n",
      "**\n",
      "***\n",
      "****\n",
      "*****\n",
      "******\n",
      "*******\n",
      "       *\n",
      "      **\n",
      "     ***\n",
      "    ****\n",
      "   *****\n",
      "  ******\n",
      " *******\n"
     ]
    }
   ],
   "source": [
    "number = int(input())\n",
    "for i in range(1,number+1):\n",
    "    for j in range(1,i+1):\n",
    "        print('*',end='')   #이 print 함수는 end=''를 사용했으므로 줄바꿈이 이루어지지 않음. 때문에 아래에 한번 더 print사용\n",
    "    print()\n",
    "    \n",
    "\n",
    "for i in range(1,number+1):\n",
    "    for j in range(number - i,-1,-1):\n",
    "        print(' ',end='')   #이 print 함수는 end=''를 사용했으므로 줄바꿈이 이루어지지 않음. 때문에 아래에 한번 더 print사용\n",
    "    print('*'*i)\n",
    "    \n",
    "\n",
    "\n",
    "# i 가 1일 때 한줄에 별 1개 출력\n",
    "# i 가 2일 때 한줄에 별 2개 출력\n",
    "# i 가 3일 때 한줄에 별 3개 출력"
   ]
  },
  {
   "cell_type": "markdown",
   "metadata": {},
   "source": [
    "## 7. 중간값 찾기 (SWEA # 2063 변형)\n",
    "\n",
    "주어진 리스트에서 중간값을 찾아 출력하는 문제.\n",
    "num = [85, 72, 38, 80, 69, 65, 68, 96, 22, 49, 67, 51,  61, 63, 87, 66, 24, 80, 83, 71, 60, 64, 52, 90, 60, 49, 31, 23, 99, 94, 11, 25, 24]"
   ]
  },
  {
   "cell_type": "code",
   "execution_count": 17,
   "metadata": {},
   "outputs": [
    {
     "name": "stdout",
     "output_type": "stream",
     "text": [
      "64\n"
     ]
    }
   ],
   "source": [
    "num = [85, 72, 38, 80, 69, 65, 68, 96, 22, 49, 67, 51,  61, 63, 87, 66, 24, 80, 83, 71, 60, 64, 52, 90, 60, 49, 31, 23, 99, 94, 11, 25, 24]\n",
    "center = len(num) // 2\n",
    "sorted_num = sorted(num)\n",
    "print(sorted_num[center])"
   ]
  }
 ],
 "metadata": {
  "kernelspec": {
   "display_name": "Python 3.9.13 64-bit",
   "language": "python",
   "name": "python3"
  },
  "language_info": {
   "codemirror_mode": {
    "name": "ipython",
    "version": 3
   },
   "file_extension": ".py",
   "mimetype": "text/x-python",
   "name": "python",
   "nbconvert_exporter": "python",
   "pygments_lexer": "ipython3",
   "version": "3.9.13"
  },
  "orig_nbformat": 4,
  "vscode": {
   "interpreter": {
    "hash": "3d3579b64ed644892bc49d0da2d1890659408e00eebf25200bc250e1696a02dd"
   }
  }
 },
 "nbformat": 4,
 "nbformat_minor": 2
}

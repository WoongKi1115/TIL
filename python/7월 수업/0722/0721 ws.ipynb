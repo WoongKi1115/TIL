{
 "cells": [
  {
   "cell_type": "markdown",
   "metadata": {},
   "source": [
    "## 1. 간단한 N의 약수\n",
    "입력으로 1개의 정수 N이 주어진다. 정수 N의 약수를 오름차순으로 출력하는 프로그램을 완성하시오"
   ]
  },
  {
   "cell_type": "code",
   "execution_count": 2,
   "metadata": {},
   "outputs": [
    {
     "name": "stdout",
     "output_type": "stream",
     "text": [
      "1 2 5 10 "
     ]
    }
   ],
   "source": [
    "N = int(input())\n",
    "#반복문을 통해 1부터 N까지 순회하면서 N을 나누어서 나머지가 0이면 출력.\n",
    "for i in range(1, N+1):\n",
    "    if N % i == 0:\n",
    "        print(i, end=' ')\n"
   ]
  },
  {
   "cell_type": "markdown",
   "metadata": {},
   "source": [
    "## 2.list 합 구하기\n",
    "정수로만 이루어진 list를 전달 받아 해당 리스트의 모든 요소들의 합을 built-in함수인 sum()을 사용하지 않고\n",
    "list_sum이라는 이름을 가진 함수로 작성하시오."
   ]
  },
  {
   "cell_type": "code",
   "execution_count": 6,
   "metadata": {},
   "outputs": [
    {
     "name": "stdout",
     "output_type": "stream",
     "text": [
      "21\n"
     ]
    }
   ],
   "source": [
    "def list_sum(numbers): #numbers 는 정수로만 이루어진 list 다.\n",
    "    #리스트 안의 요소들의 합을 저장할 변수를 선언.\n",
    "    sum_value = 0\n",
    "    #numbers 리스트를 순회하면서 누적 합을 저장\n",
    "    for number in numbers:\n",
    "        sum_value += number\n",
    "    return sum_value\n",
    "\n",
    "print(list_sum([1,2,3,4,5,6]))\n"
   ]
  },
  {
   "cell_type": "markdown",
   "metadata": {},
   "source": [
    "## 3. Dictionary로 이루어진 list 합 구하기\n",
    "Dictionary로 이루어진 list를 전달받아 모든 Dictionary의 'age' key에 해당하는 value들의 합을 변환하는\n",
    "Dict_list_sum 함수를 built-in 함수인 sum() 함수를 사용하지 않고 작성하시오"
   ]
  },
  {
   "cell_type": "code",
   "execution_count": 11,
   "metadata": {},
   "outputs": [
    {
     "name": "stdout",
     "output_type": "stream",
     "text": [
      "16\n"
     ]
    }
   ],
   "source": [
    "my_dict_list = [\n",
    "    {\n",
    "        \"name\" : \"kim\",\n",
    "        \"age\" : 12\n",
    "    },\n",
    "    {\n",
    "        \"name\" : \"lee\",\n",
    "        \"age\" : 4\n",
    "    }\n",
    "]\n",
    "\n",
    "def dict_list_sum(infos):\n",
    "    age_sum = 0\n",
    "    for info in infos:\n",
    "        age_sum += info[\"age\"]\n",
    "    return age_sum\n",
    "\n",
    "print(dict_list_sum(my_dict_list))"
   ]
  },
  {
   "cell_type": "markdown",
   "metadata": {},
   "source": [
    "## 4. 2차원 list의 전체 합 구하기\n",
    "정수로만 이루어진 2차원 list를 전달받아 해당 list의 모든 요소들의 합을 반환하는 all_list_sum 함수를 built-in 함ㅅ인\n",
    "sum() 함수를 사용하지 않고 작성하시오."
   ]
  },
  {
   "cell_type": "code",
   "execution_count": 12,
   "metadata": {},
   "outputs": [
    {
     "name": "stdout",
     "output_type": "stream",
     "text": [
      "55\n"
     ]
    }
   ],
   "source": [
    "my_list = [[1],[2,3],[4,5,6],[7,8,9,10]]\n",
    "def all_list_sum(num_lists):\n",
    "    lists_sum = 0 #2차원 리스트의 요소들의 합을 저장할 변수\n",
    "    for num_list in num_lists:\n",
    "        #num_list의 합을 구하기\n",
    "        for num in num_list: #num_list는 1차원 리스트이고 num은 그 안에 있는 숫자 하나.\n",
    "            lists_sum += num\n",
    "    return lists_sum\n",
    "\n",
    "print(all_list_sum(my_list))        "
   ]
  },
  {
   "cell_type": "markdown",
   "metadata": {},
   "source": [
    "## 5. 숫자의 의미\n",
    "정수로 이루어진 list를 전달받아, 각 정수에 해당하는 아스키 문자를 이어붙인 문자열을 반환하는\n",
    "get_secret_word 함수를 작성하시오. 단 list는 65이상 90이하, 97이상 122 이하의 정수로만 구성되어 있다.\n",
    "(아스키 코드의 알파벳 대문자, 소문자)"
   ]
  },
  {
   "cell_type": "code",
   "execution_count": 13,
   "metadata": {},
   "outputs": [
    {
     "name": "stdout",
     "output_type": "stream",
     "text": [
      "SsAfY\n"
     ]
    }
   ],
   "source": [
    "my_numbers = [83, 115, 65, 102, 89]\n",
    "def get_secret_word(numbers): #numbers는 정수로 이루어진 리스트.\n",
    "    word = '' # numbers 안에 있는 숫자들을 대응하는 알파벳으로 바꾼 후 이어붙임.\n",
    "    for number in numbers:\n",
    "        #number을 알파벳으로 변환\n",
    "        word += chr(number)\n",
    "\n",
    "    return word\n",
    "\n",
    "print(get_secret_word(my_numbers))\n"
   ]
  },
  {
   "cell_type": "markdown",
   "metadata": {},
   "source": [
    "## 6번 내 이름은 몇일까\n",
    "문자열을 전달 받아서 해당 문자열의 각 문자에 대응되는 아스키 숫자들의 합을 반환하는\n",
    "get_secret_number 함수를 작성하시오. 단 문자열은 A~Z, a~z로만 구성되어 있다."
   ]
  },
  {
   "cell_type": "code",
   "execution_count": 18,
   "metadata": {},
   "outputs": [
    {
     "name": "stdout",
     "output_type": "stream",
     "text": [
      "546\n"
     ]
    }
   ],
   "source": [
    "def get_secret_number(word):\n",
    "    total = 0 # word 의 단어 하나하나 숫자로 바꾼 후에 그 합을 저장한 변수.\n",
    "    for char in word:# 문자열 word를 문자 하나하나로 쪼갠 char // word : 'happy' => char : 'h', 'a', 'p', 'p', 'y'\n",
    "        total += ord(char) #주어진 문자열 char을 아스키 코드로 바꿔주는 함수\n",
    "\n",
    "    return total\n",
    "\n",
    "print(get_secret_number(\"happy\"))\n"
   ]
  },
  {
   "cell_type": "markdown",
   "metadata": {},
   "source": [
    "## 7. 강한 이름\n",
    "문자열 2개를 전달 받아서 두 문자열의 각 문자에 대응되는 아스키 숫자들의 합을 비교해서 더 큰 합을 가진 문자열을 변환하는\n",
    "get_strong_word 함수 작성."
   ]
  },
  {
   "cell_type": "code",
   "execution_count": 25,
   "metadata": {},
   "outputs": [
    {
     "name": "stdout",
     "output_type": "stream",
     "text": [
      "('delilah', 'delilah')\n"
     ]
    }
   ],
   "source": [
    "def get_strong_word(word1, word2):\n",
    "    # word1의 아스키숫자 합을 저장할 변수\n",
    "    word1_total = 0\n",
    "    # word2의 아스키 숫자 합을 저장할 변수\n",
    "    word2_total = 0\n",
    "\n",
    "    #word1의 아스키 숫자 합 구하기\n",
    "    for char in word1 :\n",
    "        word1_total += ord(char)\n",
    "    #word2의 아스키 숫자 합 구하기\n",
    "    for char in word2:\n",
    "        word2_total += ord(char)\n",
    "    # 값 비교\n",
    "    if word1_total > word2_total:\n",
    "        return word1\n",
    "    elif word2_total > word1_total:\n",
    "        return word2\n",
    "    else:\n",
    "        return word1, word2\n",
    "\n",
    "print(get_strong_word(\"delilah\",\"delilah\"))"
   ]
  }
 ],
 "metadata": {
  "kernelspec": {
   "display_name": "Python 3.10.5 64-bit",
   "language": "python",
   "name": "python3"
  },
  "language_info": {
   "codemirror_mode": {
    "name": "ipython",
    "version": 3
   },
   "file_extension": ".py",
   "mimetype": "text/x-python",
   "name": "python",
   "nbconvert_exporter": "python",
   "pygments_lexer": "ipython3",
   "version": "3.10.5"
  },
  "orig_nbformat": 4,
  "vscode": {
   "interpreter": {
    "hash": "da5759098478d2d549048c0d6af4b3dc56bf6a77962e304fe9a3ff6e8ccf3e27"
   }
  }
 },
 "nbformat": 4,
 "nbformat_minor": 2
}

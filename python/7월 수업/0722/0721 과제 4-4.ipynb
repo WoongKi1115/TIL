{
 "cells": [
  {
   "cell_type": "code",
   "execution_count": 8,
   "metadata": {},
   "outputs": [
    {
     "name": "stdout",
     "output_type": "stream",
     "text": [
      "None\n",
      "None\n",
      "None\n",
      "{'aet': ['eat', 'tea', 'tea', 'ate', 'ate'], 'ant': ['tan', 'nat', 'nat'], 'abt': ['bat']}\n"
     ]
    }
   ],
   "source": [
    "words = ['eat', 'tea', 'tan', 'ate', 'nat', 'bat']\n",
    "anagram_dict = {}\n",
    "# key : 해당 단어를 정렬하나 결과\n",
    "# value : key와 같은 애너그램 그룹에 있는 단어들의 모음을 리스트로 만든다.\n",
    "\n",
    "for word in words:\n",
    "    sorted_word = \"\".join(sorted(word)) # sorted()는 결과가 리스트이다. 우리는 문자열이 필요하므로, 문자열로 변환 해줘야 한다. -> join()\n",
    "    # 'a''e','t'\n",
    "    # \"\".join -> \"aet\" 문자열을 처리할 때 자주 쓰이는 함수!\n",
    "    # \".\"joing-> \"a.e.t\"\n",
    "    \n",
    "\n",
    "    if anagram_dict.get(sorted_word): # 값을 할당하는 것이 아니라, key 를 검사할 때에는 get을 사용해야 한다.\n",
    "        anagram_dict[sorted_word].append(word) #존재하면 리스트에 추가한다\n",
    "    else:\n",
    "        anagram_dict[sorted_word] = [word] #존재하지 않으면 리스트를 새로 만들어 준다.\n",
    "\n",
    "print(anagram_dict)\n"
   ]
  }
 ],
 "metadata": {
  "kernelspec": {
   "display_name": "Python 3.10.5 64-bit",
   "language": "python",
   "name": "python3"
  },
  "language_info": {
   "codemirror_mode": {
    "name": "ipython",
    "version": 3
   },
   "file_extension": ".py",
   "mimetype": "text/x-python",
   "name": "python",
   "nbconvert_exporter": "python",
   "pygments_lexer": "ipython3",
   "version": "3.10.5"
  },
  "orig_nbformat": 4,
  "vscode": {
   "interpreter": {
    "hash": "da5759098478d2d549048c0d6af4b3dc56bf6a77962e304fe9a3ff6e8ccf3e27"
   }
  }
 },
 "nbformat": 4,
 "nbformat_minor": 2
}

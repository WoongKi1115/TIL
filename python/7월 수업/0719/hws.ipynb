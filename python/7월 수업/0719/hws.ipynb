{
 "cells": [
  {
   "cell_type": "code",
   "execution_count": 1,
   "metadata": {},
   "outputs": [
    {
     "name": "stdout",
     "output_type": "stream",
     "text": [
      "hi\n"
     ]
    }
   ],
   "source": [
    "print('hi')"
   ]
  },
  {
   "cell_type": "markdown",
   "metadata": {},
   "source": [
    "## 네모 출력\n",
    "두개의 정수 n과 m이 주어졌을 때 가로의 길이가 n, 세로의 길이가 m 인 직사각형 형태를 (*)별 문자를 이용하여 출력하시오. 반복문 불가"
   ]
  },
  {
   "cell_type": "code",
   "execution_count": 2,
   "metadata": {},
   "outputs": [
    {
     "name": "stdout",
     "output_type": "stream",
     "text": [
      "*****\n",
      "*****\n",
      "*****\n",
      "*****\n",
      "*****\n",
      "*****\n",
      "*****\n",
      "*****\n",
      "*****\n",
      "\n"
     ]
    }
   ],
   "source": [
    "n, m = 5, 9\n",
    "print((\"*\"*n+\"\\n\")*m)  #문자열에 * 연산자 사용하여 출력   "
   ]
  },
  {
   "cell_type": "markdown",
   "metadata": {},
   "source": [
    "# 이스케이프 시퀀스 응용\n",
    "print() 함수를 한번만 사용해서 다음 문장을 출력\n",
    "\"파일은 c:\\Windows\\User\\내문서\\Python에 저장이 되었습니다.\"\n",
    "  \n",
    "   나는 생각했다. 'cd'를 써서 git bash로 들어가 봐야지'"
   ]
  },
  {
   "cell_type": "code",
   "execution_count": 11,
   "metadata": {},
   "outputs": [
    {
     "name": "stdout",
     "output_type": "stream",
     "text": [
      "\"파일은 c:\\Windows\\User\\내문서\\Python에 저장이 되었습니다.\" \n",
      "나는 생각했다. 'cd를 써서 git bash로 들어가 봐야지.'\n",
      "\"파일은 c:\\Windows\\User\\내문서\\Python에 저장이 되었습니다.\" \n",
      "나는 생각했다. 'cd를 써서 git bash로 들어가 봐야지.'\n"
     ]
    }
   ],
   "source": [
    "print(\"\\\"파일은 c:\\\\Windows\\\\User\\\\내문서\\\\Python에 저장이 되었습니다.\\\" \\n나는 생각했다. 'cd를 써서 git bash로 들어가 봐야지.'\")\n",
    "print('\"파일은 c:\\\\Windows\\\\User\\\\내문서\\\\Python에 저장이 되었습니다.\" \\n나는 생각했다. \\'cd를 써서 git bash로 들어가 봐야지.\\'')"
   ]
  },
  {
   "cell_type": "markdown",
   "metadata": {},
   "source": [
    "# 근의 공식\n",
    "다음은 이차방정식의 근을 찾는 수식이다. 이를 파이썬 코드로 작성하시오.  \n",
    " '+' 일 때랑 '-' 일 때 식을 따로 작성(2개 작성)"
   ]
  },
  {
   "cell_type": "code",
   "execution_count": null,
   "metadata": {},
   "outputs": [],
   "source": [
    "# +일 때 식\n",
    "(-b + (b**2-4*a*c)**(1/2))/(2*a) # 루트 사용 시 **(1/2)\n",
    "# -일 때 식\n",
    "(-b - (b**2-4*a*c)**(1/2))/(2*a)"
   ]
  },
  {
   "cell_type": "markdown",
   "metadata": {},
   "source": [
    "# 2-1 문자 print\n",
    "it's SSAFY 8 을 출력하는 프로그램을 작성하시오"
   ]
  },
  {
   "cell_type": "code",
   "execution_count": 1,
   "metadata": {},
   "outputs": [
    {
     "name": "stdout",
     "output_type": "stream",
     "text": [
      "It's SSAFY 8\n",
      "It's SSAFY 8\n"
     ]
    }
   ],
   "source": [
    "print(\"It's SSAFY 8\") #밖이 큰 따옴표이면 그냥 ' 써도 됨\n",
    "print('It\\'s SSAFY 8') #밖이 작은 따옴표이면 \\' 을 써야함"
   ]
  },
  {
   "cell_type": "markdown",
   "metadata": {},
   "source": [
    "# 2-2 숫자 print\n",
    "458345 + 623576"
   ]
  },
  {
   "cell_type": "code",
   "execution_count": 3,
   "metadata": {},
   "outputs": [
    {
     "name": "stdout",
     "output_type": "stream",
     "text": [
      "1081921\n",
      "1081921\n"
     ]
    }
   ],
   "source": [
    "#방법 1\n",
    "print(458345+623576)\n",
    "#방법 2\n",
    "num1 = 458345\n",
    "num2 = 623576\n",
    "print(num1 + num2)"
   ]
  },
  {
   "cell_type": "markdown",
   "metadata": {},
   "source": [
    "#변수를 사용해서 데이터 출력하기\n",
    "두 변수 greeting, month 를 사용해서 Hello July 출력하는 프로그램 작성하시오"
   ]
  },
  {
   "cell_type": "code",
   "execution_count": 7,
   "metadata": {},
   "outputs": [
    {
     "name": "stdout",
     "output_type": "stream",
     "text": [
      "Hello July\n"
     ]
    }
   ],
   "source": [
    "greeting = 'Hello'\n",
    "month = 'July'\n",
    "print(greeting, month)"
   ]
  },
  {
   "cell_type": "markdown",
   "metadata": {},
   "source": [
    "#문자형의 입력과 출력\n",
    "입력받은 문자를 출력하는 프로그램 작성\n",
    "  \n",
    "  (힌트 : input()함수를 활용하여 데이터를 입력받는다.)"
   ]
  },
  {
   "cell_type": "code",
   "execution_count": 9,
   "metadata": {},
   "outputs": [
    {
     "name": "stdout",
     "output_type": "stream",
     "text": [
      "안녕하세요\n"
     ]
    }
   ],
   "source": [
    "word = input(\"문자를 입력해주세요\")\n",
    "print(word)"
   ]
  }
 ],
 "metadata": {
  "kernelspec": {
   "display_name": "Python 3.10.5 64-bit",
   "language": "python",
   "name": "python3"
  },
  "language_info": {
   "codemirror_mode": {
    "name": "ipython",
    "version": 3
   },
   "file_extension": ".py",
   "mimetype": "text/x-python",
   "name": "python",
   "nbconvert_exporter": "python",
   "pygments_lexer": "ipython3",
   "version": "3.10.5"
  },
  "orig_nbformat": 4,
  "vscode": {
   "interpreter": {
    "hash": "da5759098478d2d549048c0d6af4b3dc56bf6a77962e304fe9a3ff6e8ccf3e27"
   }
  }
 },
 "nbformat": 4,
 "nbformat_minor": 2
}
